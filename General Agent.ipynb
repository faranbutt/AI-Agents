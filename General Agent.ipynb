{
  "nbformat": 4,
  "nbformat_minor": 0,
  "metadata": {
    "colab": {
      "provenance": []
    },
    "kernelspec": {
      "name": "python3",
      "display_name": "Python 3"
    },
    "language_info": {
      "name": "python"
    }
  },
  "cells": [
    {
      "cell_type": "code",
      "source": [
        "!pip install -qU langgraph langchain langchain-google-genai langchain-community"
      ],
      "metadata": {
        "colab": {
          "base_uri": "https://localhost:8080/"
        },
        "id": "RL7zm18C2dCB",
        "outputId": "37e00d70-ec90-46cf-bb32-1d677b2771fc"
      },
      "execution_count": 5,
      "outputs": [
        {
          "output_type": "stream",
          "name": "stdout",
          "text": [
            "\u001b[?25l   \u001b[90m━━━━━━━━━━━━━━━━━━━━━━━━━━━━━━━━━━━━━━━━\u001b[0m \u001b[32m0.0/135.7 kB\u001b[0m \u001b[31m?\u001b[0m eta \u001b[36m-:--:--\u001b[0m\r\u001b[2K   \u001b[90m━━━━━━━━━━━━━━━━━━━━━━━━━━━━━━━━━━━━━━━━\u001b[0m \u001b[32m135.7/135.7 kB\u001b[0m \u001b[31m6.0 MB/s\u001b[0m eta \u001b[36m0:00:00\u001b[0m\n",
            "\u001b[?25h\u001b[?25l   \u001b[90m━━━━━━━━━━━━━━━━━━━━━━━━━━━━━━━━━━━━━━━━\u001b[0m \u001b[32m0.0/1.0 MB\u001b[0m \u001b[31m?\u001b[0m eta \u001b[36m-:--:--\u001b[0m\r\u001b[2K   \u001b[91m━━━━━━━━━━━━━━━━━━━━━━━━━━━━━━━━━━━━━━━\u001b[0m\u001b[91m╸\u001b[0m \u001b[32m1.0/1.0 MB\u001b[0m \u001b[31m52.3 MB/s\u001b[0m eta \u001b[36m0:00:01\u001b[0m\r\u001b[2K   \u001b[90m━━━━━━━━━━━━━━━━━━━━━━━━━━━━━━━━━━━━━━━━\u001b[0m \u001b[32m1.0/1.0 MB\u001b[0m \u001b[31m27.1 MB/s\u001b[0m eta \u001b[36m0:00:00\u001b[0m\n",
            "\u001b[?25h\u001b[?25l   \u001b[90m━━━━━━━━━━━━━━━━━━━━━━━━━━━━━━━━━━━━━━━━\u001b[0m \u001b[32m0.0/41.3 kB\u001b[0m \u001b[31m?\u001b[0m eta \u001b[36m-:--:--\u001b[0m\r\u001b[2K   \u001b[90m━━━━━━━━━━━━━━━━━━━━━━━━━━━━━━━━━━━━━━━━\u001b[0m \u001b[32m41.3/41.3 kB\u001b[0m \u001b[31m2.6 MB/s\u001b[0m eta \u001b[36m0:00:00\u001b[0m\n",
            "\u001b[2K   \u001b[90m━━━━━━━━━━━━━━━━━━━━━━━━━━━━━━━━━━━━━━━━\u001b[0m \u001b[32m2.5/2.5 MB\u001b[0m \u001b[31m67.8 MB/s\u001b[0m eta \u001b[36m0:00:00\u001b[0m\n",
            "\u001b[2K   \u001b[90m━━━━━━━━━━━━━━━━━━━━━━━━━━━━━━━━━━━━━━━━\u001b[0m \u001b[32m411.6/411.6 kB\u001b[0m \u001b[31m24.9 MB/s\u001b[0m eta \u001b[36m0:00:00\u001b[0m\n",
            "\u001b[2K   \u001b[90m━━━━━━━━━━━━━━━━━━━━━━━━━━━━━━━━━━━━━━━━\u001b[0m \u001b[32m43.7/43.7 kB\u001b[0m \u001b[31m3.0 MB/s\u001b[0m eta \u001b[36m0:00:00\u001b[0m\n",
            "\u001b[2K   \u001b[90m━━━━━━━━━━━━━━━━━━━━━━━━━━━━━━━━━━━━━━━━\u001b[0m \u001b[32m48.9/48.9 kB\u001b[0m \u001b[31m3.3 MB/s\u001b[0m eta \u001b[36m0:00:00\u001b[0m\n",
            "\u001b[?25h"
          ]
        }
      ]
    },
    {
      "cell_type": "code",
      "source": [
        "from google.colab import userdata\n",
        "from langchain_google_genai import GoogleGenerativeAI\n",
        "from langchain_core.messages import HumanMessage, AIMessage\n",
        "from langgraph.graph import StateGraph, START, END\n",
        "from langgraph.graph.state import CompiledStateGraph\n",
        "from typing import TypedDict, Literal\n",
        "from IPython.display import Image, display"
      ],
      "metadata": {
        "id": "QC2xC9O1W2IE"
      },
      "execution_count": 266,
      "outputs": []
    },
    {
      "cell_type": "code",
      "source": [
        "llm_google = GoogleGenerativeAI(\n",
        "    api_key=api_key,\n",
        "    model='gemini-1.5-flash',\n",
        "    temperature=0\n",
        ")"
      ],
      "metadata": {
        "id": "mRY13yFVW2IE"
      },
      "execution_count": 267,
      "outputs": []
    },
    {
      "cell_type": "code",
      "source": [
        "class AgentState(TypedDict):\n",
        "    query: str\n",
        "    response: str\n",
        "    intent: str"
      ],
      "metadata": {
        "id": "D0nouTdTW2IE"
      },
      "execution_count": 268,
      "outputs": []
    },
    {
      "cell_type": "code",
      "source": [
        "def initial_node(state:AgentState):\n",
        "    query = state['query']\n",
        "    ai_msg = llm_google.invoke(f\"\"\"\n",
        "    Analyze the user's query: '{query}'.\n",
        "    Classify the intent into one of the following categories:\n",
        "    \"search\" - If the user is looking for factual information or knowledge.\n",
        "    \"generate\" - If the user wants creative or descriptive content.\n",
        "    \"calculate\" - If the user needs a logical or mathematical computation.\n",
        "    Respond with only the category name (e.g., 'generate').\n",
        "    \"\"\")\n",
        "    intent = ai_msg.strip().lower()\n",
        "    if intent not in ['search','generate','calculate']:\n",
        "        raise ValueError(f'Unknown intent: {intent}')\n",
        "    return {\"query\":query,\"response\":\"\",\"intent\":intent}\n",
        "\n",
        "\n",
        "def search_node(state:AgentState):\n",
        "  print(\"SEARCHING.....\")\n",
        "  query = state['query']\n",
        "  ai_msg = llm_google.invoke(query,temperature=0.2)\n",
        "  return {\"response\":AIMessage(content=ai_msg).content}\n",
        "def calculate_node(state:AgentState):\n",
        "  print(\"CALCULATING.....\")\n",
        "  query = state['query']\n",
        "  ai_msg = llm_google.invoke(query,temperature=0.1)\n",
        "  return {\"response\":AIMessage(content=ai_msg).content}\n",
        "\n",
        "\n",
        "def generate_node(state: AgentState):\n",
        "  print(\"Writing.....\")\n",
        "  query = state['query']\n",
        "  ai_msg = llm_google.invoke(query,temperature=0.9)\n",
        "  return {\"response\":AIMessage(content=ai_msg).content}"
      ],
      "metadata": {
        "id": "B9GhH57OW2IE"
      },
      "execution_count": 269,
      "outputs": []
    },
    {
      "cell_type": "code",
      "source": [
        "def decide_next_node(state:AgentState) -> Literal['search_node','generate_node','calculate_node']:\n",
        "  intent = state['intent']\n",
        "  if intent == 'generate':\n",
        "    return 'generate_node'\n",
        "  elif intent == 'search':\n",
        "    return 'search_node'\n",
        "  elif intent == 'calculate':\n",
        "    return 'calculate_node'\n",
        "  else:\n",
        "    raise ValueError(f'Unknown intent: {intent}')"
      ],
      "metadata": {
        "id": "elJ2LmMZW2IE"
      },
      "execution_count": 270,
      "outputs": []
    },
    {
      "cell_type": "code",
      "source": [
        "builder: StateGraph = StateGraph(AgentState)\n",
        "builder.add_node('initial_node', initial_node)\n",
        "builder.add_node('generate_node',generate_node)\n",
        "builder.add_node('search_node',search_node)\n",
        "builder.add_node('calculate_node',calculate_node)\n",
        "builder.add_edge(START,'initial_node')\n",
        "builder.add_conditional_edges('initial_node',decide_next_node)\n",
        "builder.add_edge('generate_node',END)\n",
        "builder.add_edge('search_node',END)\n",
        "builder.add_edge('calculate_node',END)\n",
        "graph = builder.compile()"
      ],
      "metadata": {
        "id": "silw9DTbW2IF"
      },
      "execution_count": 271,
      "outputs": []
    },
    {
      "cell_type": "code",
      "source": [
        "display(\n",
        "    Image(\n",
        "        graph.get_graph().draw_mermaid_png()\n",
        "    )\n",
        ")"
      ],
      "metadata": {
        "colab": {
          "base_uri": "https://localhost:8080/",
          "height": 350
        },
        "outputId": "5f135249-e8e4-42d5-abaa-df5268cd4e89",
        "id": "1W0WWBLTW2IF"
      },
      "execution_count": 272,
      "outputs": [
        {
          "output_type": "display_data",
          "data": {
            "image/png": "[encoded data removed]",
            "text/plain": [
              "<IPython.core.display.Image object>"
            ]
          },
          "metadata": {}
        }
      ]
    },
    {
      "cell_type": "code",
      "source": [
        "user_query = \"What is 2+3\"\n",
        "result = graph.invoke({\n",
        "    'query': user_query,\n",
        "    'response': \"\",\n",
        "    'intent': \"\"\n",
        "})\n",
        "print(f\"User Query: {user_query}\")\n",
        "print(f\"Agent Response: {result['response']}\")"
      ],
      "metadata": {
        "colab": {
          "base_uri": "https://localhost:8080/"
        },
        "outputId": "8165e2c8-cb16-4d94-b4fc-5665c4cdfd65",
        "id": "XuZCzSdvW2IF"
      },
      "execution_count": 275,
      "outputs": [
        {
          "output_type": "stream",
          "name": "stdout",
          "text": [
            "CALCULATING.....\n",
            "User Query: What is 2+3\n",
            "Agent Response: 2 + 3 = 5\n",
            "\n"
          ]
        }
      ]
    },
    {
      "cell_type": "markdown",
      "source": [],
      "metadata": {
        "id": "lxlXG0cidc03"
      }
    }
  ]
}