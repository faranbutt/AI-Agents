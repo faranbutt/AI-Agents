{
  "nbformat": 4,
  "nbformat_minor": 0,
  "metadata": {
    "colab": {
      "provenance": [],
      "toc_visible": true
    },
    "kernelspec": {
      "name": "python3",
      "display_name": "Python 3"
    },
    "language_info": {
      "name": "python"
    }
  },
  "cells": [
    {
      "cell_type": "code",
      "source": [
        "!pip install -qU langchain langgraph langchain_google_genai"
      ],
      "metadata": {
        "colab": {
          "base_uri": "https://localhost:8080/"
        },
        "id": "DABiRb6yZ88W",
        "outputId": "61a9e099-d95c-438c-99de-d9cb073fda7d"
      },
      "execution_count": 53,
      "outputs": [
        {
          "output_type": "stream",
          "name": "stdout",
          "text": [
            "\u001b[?25l   \u001b[90m━━━━━━━━━━━━━━━━━━━━━━━━━━━━━━━━━━━━━━━━\u001b[0m \u001b[32m0.0/41.3 kB\u001b[0m \u001b[31m?\u001b[0m eta \u001b[36m-:--:--\u001b[0m\r\u001b[2K   \u001b[90m━━━━━━━━━━━━━━━━━━━━━━━━━━━━━━━━━━━━━━━━\u001b[0m \u001b[32m41.3/41.3 kB\u001b[0m \u001b[31m3.3 MB/s\u001b[0m eta \u001b[36m0:00:00\u001b[0m\n",
            "\u001b[?25h"
          ]
        }
      ]
    },
    {
      "cell_type": "code",
      "source": [
        "from langchain_google_genai import ChatGoogleGenerativeAI\n",
        "from langchain_core.messages import HumanMessage, SystemMessage\n",
        "from google.colab import userdata"
      ],
      "metadata": {
        "id": "5CpTD46tnrO_"
      },
      "execution_count": 68,
      "outputs": []
    },
    {
      "cell_type": "code",
      "source": [
        "api_key = userdata.get(\"GOOGLE_API_KEY\")"
      ],
      "metadata": {
        "id": "l998AfOouvY2"
      },
      "execution_count": 56,
      "outputs": []
    },
    {
      "cell_type": "code",
      "source": [
        "llm: ChatGoogleGenerativeAI = ChatGoogleGenerativeAI(\n",
        "    model=\"gemini-1.5-flash\",\n",
        "    api_key = api_key,\n",
        "    temprature = 0.2,\n",
        "    convert_system_message_to_human = True\n",
        ")\n"
      ],
      "metadata": {
        "id": "YoQQigciu0Ct"
      },
      "execution_count": 69,
      "outputs": []
    },
    {
      "cell_type": "code",
      "source": [
        "llm([\n",
        "    SystemMessage(content = 'Answer in Urdu'),\n",
        "    HumanMessage(content = 'How to learn Russian ?')\n",
        "]).content"
      ],
      "metadata": {
        "colab": {
          "base_uri": "https://localhost:8080/",
          "height": 323
        },
        "id": "HGUDZLRMvC8D",
        "outputId": "85336c0b-8cd2-4735-b347-87150a694d37"
      },
      "execution_count": 71,
      "outputs": [
        {
          "output_type": "stream",
          "name": "stderr",
          "text": [
            "/usr/local/lib/python3.10/dist-packages/langchain_google_genai/chat_models.py:310: UserWarning: Convert_system_message_to_human will be deprecated!\n",
            "  warnings.warn(\"Convert_system_message_to_human will be deprecated!\")\n"
          ]
        },
        {
          "output_type": "execute_result",
          "data": {
            "text/plain": [
              "'روسی زبان سیکھنے کے کئی طریقے ہیں، اور سب سے بہترین طریقہ آپ کی سیکھنے کی  شکل اور مقاصد پر منحصر ہے۔  یہاں کچھ تجاویز ہیں:\\n\\n* **ایک اچھا کورس تلاش کریں:**  بہت سے آن لائن اور آف لائن کورسز دستیاب ہیں، جن میں Duolingo، Memrise، Babbel جیسے ایپس شامل ہیں۔  آپ کسی یونیورسٹی یا زبان کے انسٹی ٹیوٹ سے بھی رجوع کر سکتے ہیں۔  ایک منظم کورس آپ کو بنیادی گرامر اور لسانیات کی مضبوط بنیاد فراہم کرے گا۔\\n\\n* **روزانہ پریکٹس کریں:**  بہترین نتیجے کے لیے، روزانہ تھوڑا وقت نکالیں۔  یہاں تک کہ 15-30 منٹ کی روزانہ پریکٹس بھی  بہت مددگار ثابت ہوگی۔\\n\\n* **غیر ملکی مواد استعمال کریں:**  روسی فلمیں، سیریلز، موسیقی، اور کتابیں دیکھیں اور سنیں۔  شروع میں سب کچھ سمجھنا مشکل ہو سکتا ہے، لیکن آہستہ آہستہ آپ کی سمجھ بڑھے گی۔  سب ٹائٹلز استعمال کرنے میں مدد مل سکتی ہے۔\\n\\n* **روسی بولنے والوں سے بات کریں:**  اگر آپ کسی روسی بولنے والے کو جانتے ہیں تو اس سے بات کرنے کی کوشش کریں۔  آن لائن زبان تبادلے کے پلیٹ فارمز بھی دستیاب ہیں جہاں آپ دوسرے سیکھنے والوں یا مقامی بولنے والوں سے بات کر سکتے ہیں۔  یہ آپ کی بولنے کی صلاحیت کو بہتر بنانے میں مدد کرے گا۔\\n\\n* **لکھنا اور پڑھنا پریکٹس کریں:**  روزانہ  چند جملے لکھنے اور پڑھنے کی کوشش کریں۔  یہ آپ کی لکھنے اور پڑھنے کی مہارت کو بہتر بنائے گا۔\\n\\n* **اپنی ترقی کو ٹریک کریں:**  اپنی ترقی کو ریکارڈ کریں اور اپنی کمزوریوں کو شناخت کریں تاکہ آپ ان پر کام کر سکیں۔\\n\\n* **صبر اور استقامت:**  روسی ایک مشکل زبان ہے، لیکن صبر اور استقامت سے آپ اسے ضرور سیکھ سکتے ہیں۔  اپنی پیش رفت سے مایوس نہ ہوں اور مسلسل پریکٹس کرتے رہیں۔\\n\\n\\n یاد رکھیں کہ زبان سیکھنا ایک جاری عمل ہے،  اس لیے  اپنی  سیکھنے کی رفتار پر دباؤ نہ ڈالیں اور لطف اٹھائیں!\\n'"
            ],
            "application/vnd.google.colaboratory.intrinsic+json": {
              "type": "string"
            }
          },
          "metadata": {},
          "execution_count": 71
        }
      ]
    },
    {
      "cell_type": "code",
      "source": [
        "for chunk in llm.stream([\n",
        "    SystemMessage(content = 'Answer in Urdu'),\n",
        "    HumanMessage(content = 'How to learn Russian ?')\n",
        "]):\n",
        "    print(chunk.content, end = '', flush = True)"
      ],
      "metadata": {
        "colab": {
          "base_uri": "https://localhost:8080/"
        },
        "id": "X-B_1ALOvmDy",
        "outputId": "41f7f1f4-2fe6-4802-9f6b-13cc545ce322"
      },
      "execution_count": 72,
      "outputs": [
        {
          "output_type": "stream",
          "name": "stderr",
          "text": [
            "/usr/local/lib/python3.10/dist-packages/langchain_google_genai/chat_models.py:310: UserWarning: Convert_system_message_to_human will be deprecated!\n",
            "  warnings.warn(\"Convert_system_message_to_human will be deprecated!\")\n"
          ]
        },
        {
          "output_type": "stream",
          "name": "stdout",
          "text": [
            "روسی زبان سیکھنے کے کئی طریقے ہیں، اور سب سے بہترین طریقہ آپ کی شخصیت اور سیکھنے کے انداز پر منحصر ہوگا۔  تاہم، یہاں کچھ تجاویز ہیں جو آپ کو مدد کر سکتی ہیں:\n",
            "\n",
            "**1. بنیادی باتوں سے شروع کریں:**\n",
            "\n",
            "* **حروف تہجی (Алфавит):**  سب سے پہلے روسی حروف تہجی سیکھیں۔  یہ ضروری ہے کیونکہ روسی حروف تہجی انگریزی سے بہت مختلف ہے۔  آن لائن وسائل اور ایپس آپ کی مدد کر سکتے ہیں۔\n",
            "* **لفظیات (Лексика):** روزمرہ استعمال ہونے والے الفاظ اور جملے سیکھیں۔  مثال کے طور پر، سلامتی، شکریہ، معافی وغیرہ۔  فلش کارڈز یا لفظی ایپس بہت مددگار ثابت ہو سکتے ہیں۔\n",
            "* **نحو (Грамматика):** روسی نحو انگریزی سے کافی مختلف ہے۔  بنیادی نحوی قواعد جیسے کہ اسم، فعل، صفات وغیرہ سیکھنے پر توجہ دیں۔\n",
            "\n",
            "**2.  مختلف وسائل استعمال کریں:**\n",
            "\n",
            "* **کتابیں:**  روسی زبان سیکھنے کے لیے بہت سی کتابیں دستیاب ہیں۔  آپ کے سطح کے مطابق کتاب کا انتخاب کریں۔\n",
            "* **آن لائن کورسز:**  Duolingo، Memrise، Babbel جیسے آن لائن پلیٹ فارمز  روسی زبان سیکھنے کے لیے بہت اچھے وسائل ہیں۔\n",
            "* **ایپس:**  ان ایپس میں سے بہت سی مفت اور ادا شدہ دونوں دستیاب ہیں۔\n",
            "* **ٹیچر یا ٹیوٹر:**  اگر آپ کسی سے مدد لینا چاہتے ہیں تو ایک استاد یا ٹیوٹر تلاش کریں۔  وہ آپ کو انفرادی توجہ دے سکتے ہیں اور آپ کے سوالات کا جواب دے سکتے ہیں۔\n",
            "* **فلمیں اور ٹی وی سیریز:**  روسی فلمیں اور ٹی وی سیریز دیکھنے سے آپ کی سننے کی مہارت بہتر ہوگی اور آپ روزمرہ کی گفتگو میں استعمال ہونے والے الفاظ اور جملے سیکھیں گے۔  سب ٹائٹلز مددگار ثابت ہو سکتے ہیں۔\n",
            "* **موسیقی:**  روسی گانے سننے سے آپ کی تلفظ اور سننے کی مہارت بہتر ہوگی۔\n",
            "* **روسی بولنے والوں سے بات کریں:**  اگر آپ کسی روسی بولنے والے سے بات چیت کرنے کا موقع پائیں تو اسے ضائع نہ کریں۔  یہ آپ کی بولنے اور سمجھنے کی مہارت کو بہتر بنانے میں بہت مدد کرے گا۔\n",
            "\n",
            "**3.  ممارست کریں:**\n",
            "\n",
            "*  روزانہ ممارست کریں۔  یہ زبان سیکھنے کا سب سے اہم پہلو ہے۔  چاہے وہ چند منٹ ہی کیوں نہ ہوں، روزانہ کچھ وقت ضرور نکالیں۔\n",
            "*  اپنی غلطیوں سے سیکھیں۔  غلطیاں کرنا معمول کی بات ہے۔  ان سے گھبرانے کی بجائے ان سے سیکھیں اور آگے بڑھیں۔\n",
            "*  صبر کریں۔  زبان سیکھنے میں وقت لگتا ہے۔  مایوس نہ ہوں اور مسلسل کوشش کرتے رہیں۔\n",
            "\n",
            "\n",
            "یاد رکھیں کہ مسلسل محنت اور ممارست کے ذریعے ہی آپ روسی زبان میں مہارت حاصل کر سکتے ہیں۔  اپنے لیے ایک مناسب طریقہ کار منتخب کریں اور اس پر قائم رہیں۔  آپ کو ضرور کامیابی حاصل ہوگی۔\n"
          ]
        }
      ]
    },
    {
      "cell_type": "code",
      "source": [],
      "metadata": {
        "id": "AMbt23yMxE0Y"
      },
      "execution_count": null,
      "outputs": []
    }
  ]
}