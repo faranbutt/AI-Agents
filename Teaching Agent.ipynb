{
  "nbformat": 4,
  "nbformat_minor": 0,
  "metadata": {
    "colab": {
      "provenance": []
    },
    "kernelspec": {
      "name": "python3",
      "display_name": "Python 3"
    },
    "language_info": {
      "name": "python"
    }
  },
  "cells": [
    {
      "cell_type": "code",
      "source": [
        "!pip install -qU langgraph langchain langchain-google-genai langchain-communitY"
      ],
      "metadata": {
        "id": "RL7zm18C2dCB",
        "colab": {
          "base_uri": "https://localhost:8080/"
        },
        "outputId": "f37b6352-93b4-478c-9b34-eef815278520"
      },
      "execution_count": 1,
      "outputs": [
        {
          "output_type": "stream",
          "name": "stdout",
          "text": [
            "\u001b[?25l   \u001b[90m━━━━━━━━━━━━━━━━━━━━━━━━━━━━━━━━━━━━━━━━\u001b[0m \u001b[32m0.0/137.2 kB\u001b[0m \u001b[31m?\u001b[0m eta \u001b[36m-:--:--\u001b[0m\r\u001b[2K   \u001b[90m━━━━━━━━━━━━━━━━━━━━━━━━━━━━━━━━━━━━━━━━\u001b[0m \u001b[32m137.2/137.2 kB\u001b[0m \u001b[31m7.4 MB/s\u001b[0m eta \u001b[36m0:00:00\u001b[0m\n",
            "\u001b[?25h\u001b[?25l   \u001b[90m━━━━━━━━━━━━━━━━━━━━━━━━━━━━━━━━━━━━━━━━\u001b[0m \u001b[32m0.0/1.0 MB\u001b[0m \u001b[31m?\u001b[0m eta \u001b[36m-:--:--\u001b[0m\r\u001b[2K   \u001b[90m━━━━━━━━━━━━━━━━━━━━━━━━━━━━━━━━━━━━━━━━\u001b[0m \u001b[32m1.0/1.0 MB\u001b[0m \u001b[31m39.3 MB/s\u001b[0m eta \u001b[36m0:00:00\u001b[0m\n",
            "\u001b[?25h\u001b[?25l   \u001b[90m━━━━━━━━━━━━━━━━━━━━━━━━━━━━━━━━━━━━━━━━\u001b[0m \u001b[32m0.0/41.3 kB\u001b[0m \u001b[31m?\u001b[0m eta \u001b[36m-:--:--\u001b[0m\r\u001b[2K   \u001b[90m━━━━━━━━━━━━━━━━━━━━━━━━━━━━━━━━━━━━━━━━\u001b[0m \u001b[32m41.3/41.3 kB\u001b[0m \u001b[31m2.6 MB/s\u001b[0m eta \u001b[36m0:00:00\u001b[0m\n",
            "\u001b[?25h\u001b[?25l   \u001b[90m━━━━━━━━━━━━━━━━━━━━━━━━━━━━━━━━━━━━━━━━\u001b[0m \u001b[32m0.0/2.5 MB\u001b[0m \u001b[31m?\u001b[0m eta \u001b[36m-:--:--\u001b[0m\r\u001b[2K   \u001b[91m━━━━━━━━━━━━━━━━━━━━━━━━━━━━━━━━━━━━━━━\u001b[0m\u001b[91m╸\u001b[0m \u001b[32m2.5/2.5 MB\u001b[0m \u001b[31m190.4 MB/s\u001b[0m eta \u001b[36m0:00:01\u001b[0m\r\u001b[2K   \u001b[90m━━━━━━━━━━━━━━━━━━━━━━━━━━━━━━━━━━━━━━━━\u001b[0m \u001b[32m2.5/2.5 MB\u001b[0m \u001b[31m67.7 MB/s\u001b[0m eta \u001b[36m0:00:00\u001b[0m\n",
            "\u001b[2K   \u001b[90m━━━━━━━━━━━━━━━━━━━━━━━━━━━━━━━━━━━━━━━━\u001b[0m \u001b[32m411.6/411.6 kB\u001b[0m \u001b[31m25.7 MB/s\u001b[0m eta \u001b[36m0:00:00\u001b[0m\n",
            "\u001b[2K   \u001b[90m━━━━━━━━━━━━━━━━━━━━━━━━━━━━━━━━━━━━━━━━\u001b[0m \u001b[32m43.7/43.7 kB\u001b[0m \u001b[31m3.0 MB/s\u001b[0m eta \u001b[36m0:00:00\u001b[0m\n",
            "\u001b[2K   \u001b[90m━━━━━━━━━━━━━━━━━━━━━━━━━━━━━━━━━━━━━━━━\u001b[0m \u001b[32m48.9/48.9 kB\u001b[0m \u001b[31m3.3 MB/s\u001b[0m eta \u001b[36m0:00:00\u001b[0m\n",
            "\u001b[?25h"
          ]
        }
      ]
    },
    {
      "cell_type": "code",
      "source": [
        "from google.colab import userdata\n",
        "from typing import TypedDict, Literal\n",
        "from langchain_google_genai import ChatGoogleGenerativeAI\n",
        "from langchain.prompts import ChatPromptTemplate\n",
        "from langgraph.graph import StateGraph, START, END\n",
        "from langchain_core.messages import AIMessage, HumanMessage\n",
        "from IPython.display import display, Image"
      ],
      "metadata": {
        "id": "s7Gx8hXFpCMW"
      },
      "execution_count": 2,
      "outputs": []
    },
    {
      "cell_type": "code",
      "source": [
        "class AgentState(TypedDict):\n",
        "  query: str\n",
        "  category: Literal[\"english\",\"math\",\"science\",\"computer-science\"]\n",
        "  response: str"
      ],
      "metadata": {
        "id": "NhhfOKf0zvI-"
      },
      "execution_count": 14,
      "outputs": []
    },
    {
      "cell_type": "code",
      "source": [
        "def agent_work(query,temperature):\n",
        "  prompt = ChatPromptTemplate.from_template(\n",
        "    f\"\"\"\n",
        "    Identify the query to put in the specific category\n",
        "    Category = [\"english\",\"math\",\"science\",\"computer-science\"]\n",
        "    Query:{query}\n",
        "    \"\"\"\n",
        "  )\n",
        "  chain = prompt | ChatGoogleGenerativeAI(temperature=0,model='gemini-1.5-flash',api_key=userdata.get('GOOGLE_API_KEY'))\n",
        "  category = chain.invoke({\"query\":query}).content.strip().lower()\n",
        "  return category\n"
      ],
      "metadata": {
        "id": "PT-8yTnIoUw_"
      },
      "execution_count": 15,
      "outputs": []
    },
    {
      "cell_type": "code",
      "source": [
        "def catergory_node(state: AgentState):\n",
        "  \"\"\"Catgorize the students query into english, math science or computer-science \"\"\"\n",
        "  query = state['query']\n",
        "  category = agent_work(query,0.2)\n",
        "  return {\"category\":category}\n",
        "\n",
        "def Math_support(state:AgentState):\n",
        "  \"\"\"Provide Math Support response to the query\"\"\"\n",
        "  print(\"Inside Math\")\n",
        "  prompt = ChatPromptTemplate.from_template(\n",
        "      f\"\"\"\n",
        "      Provide a Math support response to the following query\n",
        "      Query: {state['query']}\n",
        "      \"\"\"\n",
        "  )\n",
        "  chain = prompt | ChatGoogleGenerativeAI(temperature=0.3,model='gemini-1.5-flash',api_key=userdata.get('GOOGLE_API_KEY'))\n",
        "  response = chain.invoke({\"query\":state['query']}).content.strip().lower()\n",
        "  return {\"response\":response}\n",
        "\n",
        "def English_support(state:AgentState):\n",
        "  \"\"\"Provide English Support response to the query\"\"\"\n",
        "  print(\"Inside English\")\n",
        "  prompt = ChatPromptTemplate.from_template(\n",
        "      f\"\"\"\n",
        "      Provide a English support response to the following query\n",
        "      Query: {state['query']}\n",
        "      \"\"\"\n",
        "  )\n",
        "  chain = prompt | ChatGoogleGenerativeAI(temperature=0.3,model='gemini-1.5-flash',api_key=userdata.get('GOOGLE_API_KEY'))\n",
        "  response = chain.invoke({\"query\":state['query']}).content.strip().lower()\n",
        "  return {\"response\":response}\n",
        "\n",
        "def Science_Support(state:AgentState):\n",
        "  \"\"\"Provide Science Support response to the query\"\"\"\n",
        "  print(\"Inside Science\")\n",
        "  prompt = ChatPromptTemplate.from_template(\n",
        "      f\"\"\"\n",
        "      Provide a Science support response to the following query\n",
        "      Query: {state['query']}\n",
        "      \"\"\"\n",
        "  )\n",
        "  chain = prompt | ChatGoogleGenerativeAI(temperature=0.3,model='gemini-1.5-flash',api_key=userdata.get('GOOGLE_API_KEY'))\n",
        "  response = chain.invoke({\"query\":state['query']}).content.strip().lower()\n",
        "  return {\"response\":response}\n",
        "def Computer_Science_Support(state:AgentState):\n",
        "  \"\"\"Provide Computer Science Support response to the query\"\"\"\n",
        "  print(\"Inside Computer Science\")\n",
        "  prompt = ChatPromptTemplate.from_template(\n",
        "      f\"\"\"\n",
        "      Provide a Computer Science support response to the following query\n",
        "      Query: {state['query']}\n",
        "      \"\"\"\n",
        "  )\n",
        "  chain = prompt | ChatGoogleGenerativeAI(temperature=0.3,model='gemini-1.5-flash',api_key=userdata.get('GOOGLE_API_KEY'))\n",
        "  response = chain.invoke({\"query\":state['query']}).content.strip().lower()\n",
        "  return {\"response\":response}\n",
        "def route_query(state:AgentState) -> Literal[\"english_support\",\"math_support\",\"science_support\",\"computer_science_support\"]:\n",
        "  \"\"\"Route query based on its category\"\"\"\n",
        "  if state[\"category\"] == \"english\":\n",
        "    return 'english_support'\n",
        "  elif state[\"category\"] == \"math\":\n",
        "    return 'math_support'\n",
        "  elif state[\"category\"] == \"science\":\n",
        "    return 'science_support'\n",
        "  elif state[\"category\"] == \"computer-science\":\n",
        "    return 'computer_science_support'\n",
        "  else:\n",
        "    return ValueError(f'Unknown Category: {state[\"category\"]}')\n"
      ],
      "metadata": {
        "id": "FLoJGV7k0AX5"
      },
      "execution_count": 18,
      "outputs": []
    },
    {
      "cell_type": "code",
      "source": [
        "builder = StateGraph(AgentState)\n",
        "builder.add_node('category_node',catergory_node)\n",
        "builder.add_node('english_support',English_support)\n",
        "builder.add_node('math_support',Math_support)\n",
        "builder.add_node('science_support',Science_Support)\n",
        "builder.add_node('computer_science_support',Computer_Science_Support)\n",
        "builder.add_edge(START, 'category_node')\n",
        "builder.add_conditional_edges('category_node', route_query)\n",
        "builder.add_edge('english_support', END)\n",
        "builder.add_edge('math_support', END)\n",
        "builder.add_edge('computer_science_support',END)\n",
        "builder.add_edge('science_support', END)\n",
        "graph = builder.compile()"
      ],
      "metadata": {
        "id": "FqQyRque4H4P"
      },
      "execution_count": 20,
      "outputs": []
    },
    {
      "cell_type": "code",
      "source": [
        "display(\n",
        "    Image(\n",
        "        graph.get_graph().draw_mermaid_png()\n",
        "    )\n",
        ")"
      ],
      "metadata": {
        "colab": {
          "base_uri": "https://localhost:8080/",
          "height": 350
        },
        "id": "S_chUOZDpvdM",
        "outputId": "32a671f7-4e36-4f18-a9f1-8686c979624e"
      },
      "execution_count": 21,
      "outputs": [
        {
          "output_type": "display_data",
          "data": {
            "image/png": "[encoded data removed]",
            "text/plain": [
              "<IPython.core.display.Image object>"
            ]
          },
          "metadata": {}
        }
      ]
    },
    {
      "cell_type": "code",
      "source": [
        "intial_state = {\n",
        "    \"query\": \"Write is (a+b)^2?\",\n",
        "    \"category\": \"\",\n",
        "    \"response\": \"\"\n",
        "}\n",
        "final_state = graph.invoke(intial_state)\n",
        "final_state"
      ],
      "metadata": {
        "id": "uiBCS7XrqO9H",
        "colab": {
          "base_uri": "https://localhost:8080/"
        },
        "outputId": "6b98b977-aaf9-43ec-a059-098a3e0196b6"
      },
      "execution_count": 23,
      "outputs": [
        {
          "output_type": "stream",
          "name": "stdout",
          "text": [
            "Inside Math\n"
          ]
        },
        {
          "output_type": "execute_result",
          "data": {
            "text/plain": [
              "{'query': 'Write is (a+b)^2?',\n",
              " 'category': 'math',\n",
              " 'response': \"the expression (a + b)² is not a single value; it's an algebraic expression that can be simplified.  to expand it, we use the distributive property (often called foil):\\n\\n(a + b)² = (a + b)(a + b) = a(a + b) + b(a + b) = a² + ab + ba + b² = a² + 2ab + b²\\n\\ntherefore, (a + b)² = a² + 2ab + b²\"}"
            ]
          },
          "metadata": {},
          "execution_count": 23
        }
      ]
    },
    {
      "cell_type": "code",
      "source": [],
      "metadata": {
        "id": "PiVqfO6XHc2t"
      },
      "execution_count": 8,
      "outputs": []
    }
  ]
}